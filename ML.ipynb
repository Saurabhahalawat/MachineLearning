{
 "cells": [
  {
   "cell_type": "code",
   "execution_count": 1,
   "id": "0d00c5ac",
   "metadata": {},
   "outputs": [],
   "source": [
    "import pandas as pd\n",
    "import numpy as np"
   ]
  },
  {
   "cell_type": "code",
   "execution_count": 2,
   "id": "9c32ea71",
   "metadata": {},
   "outputs": [],
   "source": [
    "df = pd.read_excel('mlmodel.xlsx')"
   ]
  },
  {
   "cell_type": "code",
   "execution_count": 3,
   "id": "4617eea9",
   "metadata": {},
   "outputs": [
    {
     "data": {
      "text/html": [
       "<div>\n",
       "<style scoped>\n",
       "    .dataframe tbody tr th:only-of-type {\n",
       "        vertical-align: middle;\n",
       "    }\n",
       "\n",
       "    .dataframe tbody tr th {\n",
       "        vertical-align: top;\n",
       "    }\n",
       "\n",
       "    .dataframe thead th {\n",
       "        text-align: right;\n",
       "    }\n",
       "</style>\n",
       "<table border=\"1\" class=\"dataframe\">\n",
       "  <thead>\n",
       "    <tr style=\"text-align: right;\">\n",
       "      <th></th>\n",
       "      <th>Acreage</th>\n",
       "      <th>landvalue</th>\n",
       "      <th>buildingvalue</th>\n",
       "      <th>totalvalue</th>\n",
       "      <th>bedrooms</th>\n",
       "      <th>halfbath</th>\n",
       "      <th>fullbath</th>\n",
       "      <th>saleprice</th>\n",
       "    </tr>\n",
       "  </thead>\n",
       "  <tbody>\n",
       "    <tr>\n",
       "      <th>0</th>\n",
       "      <td>0.20</td>\n",
       "      <td>125000</td>\n",
       "      <td>627400</td>\n",
       "      <td>781800</td>\n",
       "      <td>4.0</td>\n",
       "      <td>1.0</td>\n",
       "      <td>3.0</td>\n",
       "      <td>800000</td>\n",
       "    </tr>\n",
       "    <tr>\n",
       "      <th>1</th>\n",
       "      <td>0.16</td>\n",
       "      <td>125000</td>\n",
       "      <td>136400</td>\n",
       "      <td>261400</td>\n",
       "      <td>3.0</td>\n",
       "      <td>0.0</td>\n",
       "      <td>2.0</td>\n",
       "      <td>350000</td>\n",
       "    </tr>\n",
       "    <tr>\n",
       "      <th>2</th>\n",
       "      <td>0.16</td>\n",
       "      <td>125000</td>\n",
       "      <td>136400</td>\n",
       "      <td>261400</td>\n",
       "      <td>3.0</td>\n",
       "      <td>0.0</td>\n",
       "      <td>2.0</td>\n",
       "      <td>372900</td>\n",
       "    </tr>\n",
       "    <tr>\n",
       "      <th>3</th>\n",
       "      <td>0.19</td>\n",
       "      <td>125000</td>\n",
       "      <td>305000</td>\n",
       "      <td>430000</td>\n",
       "      <td>3.0</td>\n",
       "      <td>0.0</td>\n",
       "      <td>3.0</td>\n",
       "      <td>435000</td>\n",
       "    </tr>\n",
       "    <tr>\n",
       "      <th>4</th>\n",
       "      <td>0.19</td>\n",
       "      <td>125000</td>\n",
       "      <td>305000</td>\n",
       "      <td>430000</td>\n",
       "      <td>3.0</td>\n",
       "      <td>0.0</td>\n",
       "      <td>3.0</td>\n",
       "      <td>503000</td>\n",
       "    </tr>\n",
       "    <tr>\n",
       "      <th>...</th>\n",
       "      <td>...</td>\n",
       "      <td>...</td>\n",
       "      <td>...</td>\n",
       "      <td>...</td>\n",
       "      <td>...</td>\n",
       "      <td>...</td>\n",
       "      <td>...</td>\n",
       "      <td>...</td>\n",
       "    </tr>\n",
       "    <tr>\n",
       "      <th>25964</th>\n",
       "      <td>0.30</td>\n",
       "      <td>27000</td>\n",
       "      <td>72900</td>\n",
       "      <td>101500</td>\n",
       "      <td>3.0</td>\n",
       "      <td>0.0</td>\n",
       "      <td>2.0</td>\n",
       "      <td>118900</td>\n",
       "    </tr>\n",
       "    <tr>\n",
       "      <th>25965</th>\n",
       "      <td>11.93</td>\n",
       "      <td>214700</td>\n",
       "      <td>0</td>\n",
       "      <td>214700</td>\n",
       "      <td>NaN</td>\n",
       "      <td>NaN</td>\n",
       "      <td>NaN</td>\n",
       "      <td>430000</td>\n",
       "    </tr>\n",
       "    <tr>\n",
       "      <th>25966</th>\n",
       "      <td>9.00</td>\n",
       "      <td>40500</td>\n",
       "      <td>0</td>\n",
       "      <td>40500</td>\n",
       "      <td>NaN</td>\n",
       "      <td>NaN</td>\n",
       "      <td>NaN</td>\n",
       "      <td>32600</td>\n",
       "    </tr>\n",
       "    <tr>\n",
       "      <th>25967</th>\n",
       "      <td>17.54</td>\n",
       "      <td>315700</td>\n",
       "      <td>0</td>\n",
       "      <td>315700</td>\n",
       "      <td>NaN</td>\n",
       "      <td>NaN</td>\n",
       "      <td>NaN</td>\n",
       "      <td>900000</td>\n",
       "    </tr>\n",
       "    <tr>\n",
       "      <th>25968</th>\n",
       "      <td>3.02</td>\n",
       "      <td>53900</td>\n",
       "      <td>61600</td>\n",
       "      <td>138400</td>\n",
       "      <td>2.0</td>\n",
       "      <td>0.0</td>\n",
       "      <td>1.0</td>\n",
       "      <td>143500</td>\n",
       "    </tr>\n",
       "  </tbody>\n",
       "</table>\n",
       "<p>25969 rows × 8 columns</p>\n",
       "</div>"
      ],
      "text/plain": [
       "       Acreage  landvalue  buildingvalue  totalvalue  bedrooms  halfbath  \\\n",
       "0         0.20     125000         627400      781800       4.0       1.0   \n",
       "1         0.16     125000         136400      261400       3.0       0.0   \n",
       "2         0.16     125000         136400      261400       3.0       0.0   \n",
       "3         0.19     125000         305000      430000       3.0       0.0   \n",
       "4         0.19     125000         305000      430000       3.0       0.0   \n",
       "...        ...        ...            ...         ...       ...       ...   \n",
       "25964     0.30      27000          72900      101500       3.0       0.0   \n",
       "25965    11.93     214700              0      214700       NaN       NaN   \n",
       "25966     9.00      40500              0       40500       NaN       NaN   \n",
       "25967    17.54     315700              0      315700       NaN       NaN   \n",
       "25968     3.02      53900          61600      138400       2.0       0.0   \n",
       "\n",
       "       fullbath  saleprice  \n",
       "0           3.0     800000  \n",
       "1           2.0     350000  \n",
       "2           2.0     372900  \n",
       "3           3.0     435000  \n",
       "4           3.0     503000  \n",
       "...         ...        ...  \n",
       "25964       2.0     118900  \n",
       "25965       NaN     430000  \n",
       "25966       NaN      32600  \n",
       "25967       NaN     900000  \n",
       "25968       1.0     143500  \n",
       "\n",
       "[25969 rows x 8 columns]"
      ]
     },
     "execution_count": 3,
     "metadata": {},
     "output_type": "execute_result"
    }
   ],
   "source": [
    "df"
   ]
  },
  {
   "cell_type": "code",
   "execution_count": 4,
   "id": "6cf8aa8e",
   "metadata": {},
   "outputs": [
    {
     "name": "stdout",
     "output_type": "stream",
     "text": [
      "<class 'pandas.core.frame.DataFrame'>\n",
      "RangeIndex: 25969 entries, 0 to 25968\n",
      "Data columns (total 8 columns):\n",
      " #   Column         Non-Null Count  Dtype  \n",
      "---  ------         --------------  -----  \n",
      " 0   Acreage        25969 non-null  float64\n",
      " 1   landvalue      25969 non-null  int64  \n",
      " 2   buildingvalue  25969 non-null  int64  \n",
      " 3   totalvalue     25969 non-null  int64  \n",
      " 4   bedrooms       24112 non-null  float64\n",
      " 5   halfbath       24099 non-null  float64\n",
      " 6   fullbath       24230 non-null  float64\n",
      " 7   saleprice      25969 non-null  int64  \n",
      "dtypes: float64(4), int64(4)\n",
      "memory usage: 1.6 MB\n"
     ]
    }
   ],
   "source": [
    "df.info()"
   ]
  },
  {
   "cell_type": "code",
   "execution_count": 5,
   "id": "a2fabcda",
   "metadata": {},
   "outputs": [
    {
     "data": {
      "text/html": [
       "<div>\n",
       "<style scoped>\n",
       "    .dataframe tbody tr th:only-of-type {\n",
       "        vertical-align: middle;\n",
       "    }\n",
       "\n",
       "    .dataframe tbody tr th {\n",
       "        vertical-align: top;\n",
       "    }\n",
       "\n",
       "    .dataframe thead th {\n",
       "        text-align: right;\n",
       "    }\n",
       "</style>\n",
       "<table border=\"1\" class=\"dataframe\">\n",
       "  <thead>\n",
       "    <tr style=\"text-align: right;\">\n",
       "      <th></th>\n",
       "      <th>Acreage</th>\n",
       "      <th>landvalue</th>\n",
       "      <th>buildingvalue</th>\n",
       "      <th>totalvalue</th>\n",
       "      <th>bedrooms</th>\n",
       "      <th>halfbath</th>\n",
       "      <th>fullbath</th>\n",
       "      <th>saleprice</th>\n",
       "    </tr>\n",
       "  </thead>\n",
       "  <tbody>\n",
       "    <tr>\n",
       "      <th>count</th>\n",
       "      <td>25969.000000</td>\n",
       "      <td>2.596900e+04</td>\n",
       "      <td>2.596900e+04</td>\n",
       "      <td>2.596900e+04</td>\n",
       "      <td>24112.000000</td>\n",
       "      <td>24099.000000</td>\n",
       "      <td>24230.000000</td>\n",
       "      <td>2.596900e+04</td>\n",
       "    </tr>\n",
       "    <tr>\n",
       "      <th>mean</th>\n",
       "      <td>0.499375</td>\n",
       "      <td>6.914498e+04</td>\n",
       "      <td>1.608887e+05</td>\n",
       "      <td>2.325590e+05</td>\n",
       "      <td>3.090246</td>\n",
       "      <td>0.283912</td>\n",
       "      <td>1.886339</td>\n",
       "      <td>2.809766e+05</td>\n",
       "    </tr>\n",
       "    <tr>\n",
       "      <th>std</th>\n",
       "      <td>1.571793</td>\n",
       "      <td>1.061174e+05</td>\n",
       "      <td>2.069547e+05</td>\n",
       "      <td>2.812663e+05</td>\n",
       "      <td>0.853152</td>\n",
       "      <td>0.487944</td>\n",
       "      <td>0.961880</td>\n",
       "      <td>3.748996e+05</td>\n",
       "    </tr>\n",
       "    <tr>\n",
       "      <th>min</th>\n",
       "      <td>0.010000</td>\n",
       "      <td>1.000000e+02</td>\n",
       "      <td>0.000000e+00</td>\n",
       "      <td>1.000000e+02</td>\n",
       "      <td>0.000000</td>\n",
       "      <td>0.000000</td>\n",
       "      <td>0.000000</td>\n",
       "      <td>5.000000e+01</td>\n",
       "    </tr>\n",
       "    <tr>\n",
       "      <th>25%</th>\n",
       "      <td>0.180000</td>\n",
       "      <td>2.100000e+04</td>\n",
       "      <td>7.600000e+04</td>\n",
       "      <td>1.028000e+05</td>\n",
       "      <td>3.000000</td>\n",
       "      <td>0.000000</td>\n",
       "      <td>1.000000</td>\n",
       "      <td>1.220000e+05</td>\n",
       "    </tr>\n",
       "    <tr>\n",
       "      <th>50%</th>\n",
       "      <td>0.270000</td>\n",
       "      <td>2.880000e+04</td>\n",
       "      <td>1.114000e+05</td>\n",
       "      <td>1.486000e+05</td>\n",
       "      <td>3.000000</td>\n",
       "      <td>0.000000</td>\n",
       "      <td>2.000000</td>\n",
       "      <td>1.840000e+05</td>\n",
       "    </tr>\n",
       "    <tr>\n",
       "      <th>75%</th>\n",
       "      <td>0.450000</td>\n",
       "      <td>6.000000e+04</td>\n",
       "      <td>1.808000e+05</td>\n",
       "      <td>2.686000e+05</td>\n",
       "      <td>3.000000</td>\n",
       "      <td>1.000000</td>\n",
       "      <td>2.000000</td>\n",
       "      <td>3.250000e+05</td>\n",
       "    </tr>\n",
       "    <tr>\n",
       "      <th>max</th>\n",
       "      <td>160.060000</td>\n",
       "      <td>2.772000e+06</td>\n",
       "      <td>1.297180e+07</td>\n",
       "      <td>1.394040e+07</td>\n",
       "      <td>11.000000</td>\n",
       "      <td>3.000000</td>\n",
       "      <td>10.000000</td>\n",
       "      <td>1.235000e+07</td>\n",
       "    </tr>\n",
       "  </tbody>\n",
       "</table>\n",
       "</div>"
      ],
      "text/plain": [
       "            Acreage     landvalue  buildingvalue    totalvalue      bedrooms  \\\n",
       "count  25969.000000  2.596900e+04   2.596900e+04  2.596900e+04  24112.000000   \n",
       "mean       0.499375  6.914498e+04   1.608887e+05  2.325590e+05      3.090246   \n",
       "std        1.571793  1.061174e+05   2.069547e+05  2.812663e+05      0.853152   \n",
       "min        0.010000  1.000000e+02   0.000000e+00  1.000000e+02      0.000000   \n",
       "25%        0.180000  2.100000e+04   7.600000e+04  1.028000e+05      3.000000   \n",
       "50%        0.270000  2.880000e+04   1.114000e+05  1.486000e+05      3.000000   \n",
       "75%        0.450000  6.000000e+04   1.808000e+05  2.686000e+05      3.000000   \n",
       "max      160.060000  2.772000e+06   1.297180e+07  1.394040e+07     11.000000   \n",
       "\n",
       "           halfbath      fullbath     saleprice  \n",
       "count  24099.000000  24230.000000  2.596900e+04  \n",
       "mean       0.283912      1.886339  2.809766e+05  \n",
       "std        0.487944      0.961880  3.748996e+05  \n",
       "min        0.000000      0.000000  5.000000e+01  \n",
       "25%        0.000000      1.000000  1.220000e+05  \n",
       "50%        0.000000      2.000000  1.840000e+05  \n",
       "75%        1.000000      2.000000  3.250000e+05  \n",
       "max        3.000000     10.000000  1.235000e+07  "
      ]
     },
     "execution_count": 5,
     "metadata": {},
     "output_type": "execute_result"
    }
   ],
   "source": [
    "df.describe()"
   ]
  },
  {
   "cell_type": "code",
   "execution_count": 6,
   "id": "fbf57afb",
   "metadata": {},
   "outputs": [],
   "source": [
    "df.dropna(inplace=True)"
   ]
  },
  {
   "cell_type": "code",
   "execution_count": 8,
   "id": "7cfe4d3b",
   "metadata": {},
   "outputs": [
    {
     "data": {
      "text/html": [
       "<div>\n",
       "<style scoped>\n",
       "    .dataframe tbody tr th:only-of-type {\n",
       "        vertical-align: middle;\n",
       "    }\n",
       "\n",
       "    .dataframe tbody tr th {\n",
       "        vertical-align: top;\n",
       "    }\n",
       "\n",
       "    .dataframe thead th {\n",
       "        text-align: right;\n",
       "    }\n",
       "</style>\n",
       "<table border=\"1\" class=\"dataframe\">\n",
       "  <thead>\n",
       "    <tr style=\"text-align: right;\">\n",
       "      <th></th>\n",
       "      <th>Acreage</th>\n",
       "      <th>landvalue</th>\n",
       "      <th>buildingvalue</th>\n",
       "      <th>totalvalue</th>\n",
       "      <th>bedrooms</th>\n",
       "      <th>halfbath</th>\n",
       "      <th>fullbath</th>\n",
       "      <th>saleprice</th>\n",
       "    </tr>\n",
       "  </thead>\n",
       "  <tbody>\n",
       "    <tr>\n",
       "      <th>Acreage</th>\n",
       "      <td>1.000000</td>\n",
       "      <td>0.326249</td>\n",
       "      <td>0.221721</td>\n",
       "      <td>0.287596</td>\n",
       "      <td>0.150688</td>\n",
       "      <td>0.054040</td>\n",
       "      <td>0.218022</td>\n",
       "      <td>0.285663</td>\n",
       "    </tr>\n",
       "    <tr>\n",
       "      <th>landvalue</th>\n",
       "      <td>0.326249</td>\n",
       "      <td>1.000000</td>\n",
       "      <td>0.614267</td>\n",
       "      <td>0.822659</td>\n",
       "      <td>0.342384</td>\n",
       "      <td>0.187214</td>\n",
       "      <td>0.539128</td>\n",
       "      <td>0.743418</td>\n",
       "    </tr>\n",
       "    <tr>\n",
       "      <th>buildingvalue</th>\n",
       "      <td>0.221721</td>\n",
       "      <td>0.614267</td>\n",
       "      <td>1.000000</td>\n",
       "      <td>0.953448</td>\n",
       "      <td>0.447465</td>\n",
       "      <td>0.379159</td>\n",
       "      <td>0.646844</td>\n",
       "      <td>0.728798</td>\n",
       "    </tr>\n",
       "    <tr>\n",
       "      <th>totalvalue</th>\n",
       "      <td>0.287596</td>\n",
       "      <td>0.822659</td>\n",
       "      <td>0.953448</td>\n",
       "      <td>1.000000</td>\n",
       "      <td>0.452261</td>\n",
       "      <td>0.343442</td>\n",
       "      <td>0.670669</td>\n",
       "      <td>0.809669</td>\n",
       "    </tr>\n",
       "    <tr>\n",
       "      <th>bedrooms</th>\n",
       "      <td>0.150688</td>\n",
       "      <td>0.342384</td>\n",
       "      <td>0.447465</td>\n",
       "      <td>0.452261</td>\n",
       "      <td>1.000000</td>\n",
       "      <td>0.194003</td>\n",
       "      <td>0.613727</td>\n",
       "      <td>0.373216</td>\n",
       "    </tr>\n",
       "    <tr>\n",
       "      <th>halfbath</th>\n",
       "      <td>0.054040</td>\n",
       "      <td>0.187214</td>\n",
       "      <td>0.379159</td>\n",
       "      <td>0.343442</td>\n",
       "      <td>0.194003</td>\n",
       "      <td>1.000000</td>\n",
       "      <td>0.089546</td>\n",
       "      <td>0.252372</td>\n",
       "    </tr>\n",
       "    <tr>\n",
       "      <th>fullbath</th>\n",
       "      <td>0.218022</td>\n",
       "      <td>0.539128</td>\n",
       "      <td>0.646844</td>\n",
       "      <td>0.670669</td>\n",
       "      <td>0.613727</td>\n",
       "      <td>0.089546</td>\n",
       "      <td>1.000000</td>\n",
       "      <td>0.550225</td>\n",
       "    </tr>\n",
       "    <tr>\n",
       "      <th>saleprice</th>\n",
       "      <td>0.285663</td>\n",
       "      <td>0.743418</td>\n",
       "      <td>0.728798</td>\n",
       "      <td>0.809669</td>\n",
       "      <td>0.373216</td>\n",
       "      <td>0.252372</td>\n",
       "      <td>0.550225</td>\n",
       "      <td>1.000000</td>\n",
       "    </tr>\n",
       "  </tbody>\n",
       "</table>\n",
       "</div>"
      ],
      "text/plain": [
       "                Acreage  landvalue  buildingvalue  totalvalue  bedrooms  \\\n",
       "Acreage        1.000000   0.326249       0.221721    0.287596  0.150688   \n",
       "landvalue      0.326249   1.000000       0.614267    0.822659  0.342384   \n",
       "buildingvalue  0.221721   0.614267       1.000000    0.953448  0.447465   \n",
       "totalvalue     0.287596   0.822659       0.953448    1.000000  0.452261   \n",
       "bedrooms       0.150688   0.342384       0.447465    0.452261  1.000000   \n",
       "halfbath       0.054040   0.187214       0.379159    0.343442  0.194003   \n",
       "fullbath       0.218022   0.539128       0.646844    0.670669  0.613727   \n",
       "saleprice      0.285663   0.743418       0.728798    0.809669  0.373216   \n",
       "\n",
       "               halfbath  fullbath  saleprice  \n",
       "Acreage        0.054040  0.218022   0.285663  \n",
       "landvalue      0.187214  0.539128   0.743418  \n",
       "buildingvalue  0.379159  0.646844   0.728798  \n",
       "totalvalue     0.343442  0.670669   0.809669  \n",
       "bedrooms       0.194003  0.613727   0.373216  \n",
       "halfbath       1.000000  0.089546   0.252372  \n",
       "fullbath       0.089546  1.000000   0.550225  \n",
       "saleprice      0.252372  0.550225   1.000000  "
      ]
     },
     "execution_count": 8,
     "metadata": {},
     "output_type": "execute_result"
    }
   ],
   "source": [
    "df.corr()"
   ]
  },
  {
   "cell_type": "code",
   "execution_count": 37,
   "id": "c3bcceee",
   "metadata": {},
   "outputs": [],
   "source": [
    "df.drop(df[df['bedrooms']==11].index, inplace=True)"
   ]
  },
  {
   "cell_type": "code",
   "execution_count": 38,
   "id": "6774a9d1",
   "metadata": {},
   "outputs": [
    {
     "data": {
      "text/plain": [
       "3.0     12753\n",
       "2.0      5088\n",
       "4.0      4819\n",
       "5.0       870\n",
       "6.0       243\n",
       "1.0       102\n",
       "0.0        43\n",
       "7.0        35\n",
       "8.0        22\n",
       "9.0         2\n",
       "10.0        2\n",
       "Name: bedrooms, dtype: int64"
      ]
     },
     "execution_count": 38,
     "metadata": {},
     "output_type": "execute_result"
    }
   ],
   "source": [
    "df['bedrooms'].value_counts()"
   ]
  },
  {
   "cell_type": "code",
   "execution_count": 41,
   "id": "ba0fc1d4",
   "metadata": {},
   "outputs": [],
   "source": [
    "df.reset_index(drop=True,inplace=True)"
   ]
  },
  {
   "cell_type": "markdown",
   "id": "a52b0cc2",
   "metadata": {},
   "source": [
    "### Train Test Split"
   ]
  },
  {
   "cell_type": "code",
   "execution_count": 42,
   "id": "ea31be62",
   "metadata": {},
   "outputs": [],
   "source": [
    "from sklearn.model_selection import StratifiedShuffleSplit"
   ]
  },
  {
   "cell_type": "code",
   "execution_count": 43,
   "id": "98ed0356",
   "metadata": {},
   "outputs": [],
   "source": [
    "split = StratifiedShuffleSplit(n_splits=1, test_size=0.2, random_state=42)\n",
    "for train_index, test_index in split.split(df, df['bedrooms']):\n",
    "    df_train_set = df.loc[train_index]\n",
    "    df_test_set = df.loc[test_index]"
   ]
  },
  {
   "cell_type": "code",
   "execution_count": 44,
   "id": "5f5fa5d3",
   "metadata": {},
   "outputs": [
    {
     "data": {
      "text/html": [
       "<div>\n",
       "<style scoped>\n",
       "    .dataframe tbody tr th:only-of-type {\n",
       "        vertical-align: middle;\n",
       "    }\n",
       "\n",
       "    .dataframe tbody tr th {\n",
       "        vertical-align: top;\n",
       "    }\n",
       "\n",
       "    .dataframe thead th {\n",
       "        text-align: right;\n",
       "    }\n",
       "</style>\n",
       "<table border=\"1\" class=\"dataframe\">\n",
       "  <thead>\n",
       "    <tr style=\"text-align: right;\">\n",
       "      <th></th>\n",
       "      <th>Acreage</th>\n",
       "      <th>landvalue</th>\n",
       "      <th>buildingvalue</th>\n",
       "      <th>totalvalue</th>\n",
       "      <th>bedrooms</th>\n",
       "      <th>halfbath</th>\n",
       "      <th>fullbath</th>\n",
       "      <th>saleprice</th>\n",
       "    </tr>\n",
       "  </thead>\n",
       "  <tbody>\n",
       "    <tr>\n",
       "      <th>count</th>\n",
       "      <td>19183.000000</td>\n",
       "      <td>1.918300e+04</td>\n",
       "      <td>1.918300e+04</td>\n",
       "      <td>1.918300e+04</td>\n",
       "      <td>19183.000000</td>\n",
       "      <td>19183.000000</td>\n",
       "      <td>19183.000000</td>\n",
       "      <td>1.918300e+04</td>\n",
       "    </tr>\n",
       "    <tr>\n",
       "      <th>mean</th>\n",
       "      <td>0.456603</td>\n",
       "      <td>6.888761e+04</td>\n",
       "      <td>1.718665e+05</td>\n",
       "      <td>2.434417e+05</td>\n",
       "      <td>3.089715</td>\n",
       "      <td>0.284418</td>\n",
       "      <td>1.891414</td>\n",
       "      <td>2.739408e+05</td>\n",
       "    </tr>\n",
       "    <tr>\n",
       "      <th>std</th>\n",
       "      <td>0.803547</td>\n",
       "      <td>1.017787e+05</td>\n",
       "      <td>1.901088e+05</td>\n",
       "      <td>2.685480e+05</td>\n",
       "      <td>0.854392</td>\n",
       "      <td>0.487793</td>\n",
       "      <td>0.955010</td>\n",
       "      <td>2.924879e+05</td>\n",
       "    </tr>\n",
       "    <tr>\n",
       "      <th>min</th>\n",
       "      <td>0.040000</td>\n",
       "      <td>9.000000e+02</td>\n",
       "      <td>0.000000e+00</td>\n",
       "      <td>1.260000e+04</td>\n",
       "      <td>0.000000</td>\n",
       "      <td>0.000000</td>\n",
       "      <td>0.000000</td>\n",
       "      <td>1.000000e+02</td>\n",
       "    </tr>\n",
       "    <tr>\n",
       "      <th>25%</th>\n",
       "      <td>0.190000</td>\n",
       "      <td>2.200000e+04</td>\n",
       "      <td>8.360000e+04</td>\n",
       "      <td>1.095000e+05</td>\n",
       "      <td>3.000000</td>\n",
       "      <td>0.000000</td>\n",
       "      <td>1.000000</td>\n",
       "      <td>1.250000e+05</td>\n",
       "    </tr>\n",
       "    <tr>\n",
       "      <th>50%</th>\n",
       "      <td>0.270000</td>\n",
       "      <td>2.990000e+04</td>\n",
       "      <td>1.173000e+05</td>\n",
       "      <td>1.547000e+05</td>\n",
       "      <td>3.000000</td>\n",
       "      <td>0.000000</td>\n",
       "      <td>2.000000</td>\n",
       "      <td>1.850000e+05</td>\n",
       "    </tr>\n",
       "    <tr>\n",
       "      <th>75%</th>\n",
       "      <td>0.450000</td>\n",
       "      <td>6.030000e+04</td>\n",
       "      <td>1.888000e+05</td>\n",
       "      <td>2.782000e+05</td>\n",
       "      <td>3.000000</td>\n",
       "      <td>1.000000</td>\n",
       "      <td>2.000000</td>\n",
       "      <td>3.249210e+05</td>\n",
       "    </tr>\n",
       "    <tr>\n",
       "      <th>max</th>\n",
       "      <td>47.500000</td>\n",
       "      <td>1.869000e+06</td>\n",
       "      <td>5.824300e+06</td>\n",
       "      <td>6.402600e+06</td>\n",
       "      <td>10.000000</td>\n",
       "      <td>3.000000</td>\n",
       "      <td>10.000000</td>\n",
       "      <td>7.200000e+06</td>\n",
       "    </tr>\n",
       "  </tbody>\n",
       "</table>\n",
       "</div>"
      ],
      "text/plain": [
       "            Acreage     landvalue  buildingvalue    totalvalue      bedrooms  \\\n",
       "count  19183.000000  1.918300e+04   1.918300e+04  1.918300e+04  19183.000000   \n",
       "mean       0.456603  6.888761e+04   1.718665e+05  2.434417e+05      3.089715   \n",
       "std        0.803547  1.017787e+05   1.901088e+05  2.685480e+05      0.854392   \n",
       "min        0.040000  9.000000e+02   0.000000e+00  1.260000e+04      0.000000   \n",
       "25%        0.190000  2.200000e+04   8.360000e+04  1.095000e+05      3.000000   \n",
       "50%        0.270000  2.990000e+04   1.173000e+05  1.547000e+05      3.000000   \n",
       "75%        0.450000  6.030000e+04   1.888000e+05  2.782000e+05      3.000000   \n",
       "max       47.500000  1.869000e+06   5.824300e+06  6.402600e+06     10.000000   \n",
       "\n",
       "           halfbath      fullbath     saleprice  \n",
       "count  19183.000000  19183.000000  1.918300e+04  \n",
       "mean       0.284418      1.891414  2.739408e+05  \n",
       "std        0.487793      0.955010  2.924879e+05  \n",
       "min        0.000000      0.000000  1.000000e+02  \n",
       "25%        0.000000      1.000000  1.250000e+05  \n",
       "50%        0.000000      2.000000  1.850000e+05  \n",
       "75%        1.000000      2.000000  3.249210e+05  \n",
       "max        3.000000     10.000000  7.200000e+06  "
      ]
     },
     "execution_count": 44,
     "metadata": {},
     "output_type": "execute_result"
    }
   ],
   "source": [
    "df_train_set.describe()"
   ]
  },
  {
   "cell_type": "code",
   "execution_count": 45,
   "id": "7f7e7dd3",
   "metadata": {},
   "outputs": [
    {
     "name": "stdout",
     "output_type": "stream",
     "text": [
      "<class 'pandas.core.frame.DataFrame'>\n",
      "Int64Index: 19183 entries, 306 to 12619\n",
      "Data columns (total 8 columns):\n",
      " #   Column         Non-Null Count  Dtype  \n",
      "---  ------         --------------  -----  \n",
      " 0   Acreage        19183 non-null  float64\n",
      " 1   landvalue      19183 non-null  int64  \n",
      " 2   buildingvalue  19183 non-null  int64  \n",
      " 3   totalvalue     19183 non-null  int64  \n",
      " 4   bedrooms       19183 non-null  float64\n",
      " 5   halfbath       19183 non-null  float64\n",
      " 6   fullbath       19183 non-null  float64\n",
      " 7   saleprice      19183 non-null  int64  \n",
      "dtypes: float64(4), int64(4)\n",
      "memory usage: 1.3 MB\n"
     ]
    }
   ],
   "source": [
    "df_train_set.info()"
   ]
  },
  {
   "cell_type": "code",
   "execution_count": 46,
   "id": "6c8375ed",
   "metadata": {},
   "outputs": [
    {
     "data": {
      "text/plain": [
       "3.0    2551\n",
       "2.0    1018\n",
       "4.0     964\n",
       "5.0     174\n",
       "6.0      49\n",
       "1.0      20\n",
       "0.0       9\n",
       "7.0       7\n",
       "8.0       4\n",
       "Name: bedrooms, dtype: int64"
      ]
     },
     "execution_count": 46,
     "metadata": {},
     "output_type": "execute_result"
    }
   ],
   "source": [
    "df_test_set['bedrooms'].value_counts()"
   ]
  },
  {
   "cell_type": "code",
   "execution_count": 47,
   "id": "fa587e61",
   "metadata": {},
   "outputs": [
    {
     "data": {
      "text/plain": [
       "3.0     10202\n",
       "2.0      4070\n",
       "4.0      3855\n",
       "5.0       696\n",
       "6.0       194\n",
       "1.0        82\n",
       "0.0        34\n",
       "7.0        28\n",
       "8.0        18\n",
       "10.0        2\n",
       "9.0         2\n",
       "Name: bedrooms, dtype: int64"
      ]
     },
     "execution_count": 47,
     "metadata": {},
     "output_type": "execute_result"
    }
   ],
   "source": [
    "df_train_set['bedrooms'].value_counts()"
   ]
  },
  {
   "cell_type": "markdown",
   "id": "1d1f431c",
   "metadata": {},
   "source": [
    "## Crearting Pipeline"
   ]
  },
  {
   "cell_type": "code",
   "execution_count": 48,
   "id": "52f6c79b",
   "metadata": {},
   "outputs": [],
   "source": [
    "from sklearn.pipeline import Pipeline\n",
    "from sklearn.impute import SimpleImputer\n",
    "from sklearn.preprocessing import StandardScaler"
   ]
  },
  {
   "cell_type": "code",
   "execution_count": 49,
   "id": "726ccf29",
   "metadata": {},
   "outputs": [],
   "source": [
    "df_features = df_train_set.drop('bedrooms',axis=1)\n",
    "df_train_labels = df_train_set['bedrooms'].copy()"
   ]
  },
  {
   "cell_type": "code",
   "execution_count": 50,
   "id": "d64d2e1f",
   "metadata": {},
   "outputs": [],
   "source": [
    "my_pipeline = Pipeline([('imputer',SimpleImputer(strategy='median')),\n",
    "                      ('std_scaler', StandardScaler())])"
   ]
  },
  {
   "cell_type": "code",
   "execution_count": 51,
   "id": "962b733e",
   "metadata": {},
   "outputs": [],
   "source": [
    "df_tr = my_pipeline.fit_transform(df_features)"
   ]
  },
  {
   "cell_type": "code",
   "execution_count": 52,
   "id": "14b45662",
   "metadata": {},
   "outputs": [
    {
     "data": {
      "text/plain": [
       "array([[-0.4189078 , -0.45086853,  0.2968562 , ...,  1.46701459,\n",
       "         0.11370415,  0.31133434],\n",
       "       [-0.20734024, -0.29857334,  0.32368365, ..., -0.58308673,\n",
       "        -0.93343302,  0.24295367],\n",
       "       [ 0.63892998,  0.649587  , -0.2591557 , ..., -0.58308673,\n",
       "         0.11370415,  0.19166817],\n",
       "       ...,\n",
       "       [-0.29445629, -0.0381977 , -0.00403198, ..., -0.58308673,\n",
       "         0.11370415,  0.0999355 ],\n",
       "       [-0.23223054, -0.43613029, -0.53532056, ..., -0.58308673,\n",
       "         0.11370415, -0.44085304],\n",
       "       [-0.28201114, -0.38209006, -0.49113418, ..., -0.58308673,\n",
       "        -0.93343302, -0.18442552]])"
      ]
     },
     "execution_count": 52,
     "metadata": {},
     "output_type": "execute_result"
    }
   ],
   "source": [
    "df_tr"
   ]
  },
  {
   "cell_type": "code",
   "execution_count": 53,
   "id": "6ecfcf7c",
   "metadata": {},
   "outputs": [
    {
     "data": {
      "text/plain": [
       "306      3.0\n",
       "4965     3.0\n",
       "23875    3.0\n",
       "18510    2.0\n",
       "18084    4.0\n",
       "        ... \n",
       "1647     4.0\n",
       "13131    3.0\n",
       "1705     3.0\n",
       "16167    3.0\n",
       "12619    2.0\n",
       "Name: bedrooms, Length: 19183, dtype: float64"
      ]
     },
     "execution_count": 53,
     "metadata": {},
     "output_type": "execute_result"
    }
   ],
   "source": [
    "df_train_labels"
   ]
  },
  {
   "cell_type": "markdown",
   "id": "7d1598ff",
   "metadata": {},
   "source": [
    "### Selecting a desired model"
   ]
  },
  {
   "cell_type": "code",
   "execution_count": 54,
   "id": "e0d5bd4c",
   "metadata": {},
   "outputs": [],
   "source": [
    "from sklearn.linear_model import LinearRegression\n",
    "from sklearn.tree import DecisionTreeRegressor\n",
    "from sklearn.ensemble import RandomForestRegressor"
   ]
  },
  {
   "cell_type": "markdown",
   "id": "54532779",
   "metadata": {},
   "source": [
    "### Training Model"
   ]
  },
  {
   "cell_type": "code",
   "execution_count": 55,
   "id": "c5e8ad4b",
   "metadata": {},
   "outputs": [
    {
     "data": {
      "text/html": [
       "<style>#sk-container-id-2 {color: black;background-color: white;}#sk-container-id-2 pre{padding: 0;}#sk-container-id-2 div.sk-toggleable {background-color: white;}#sk-container-id-2 label.sk-toggleable__label {cursor: pointer;display: block;width: 100%;margin-bottom: 0;padding: 0.3em;box-sizing: border-box;text-align: center;}#sk-container-id-2 label.sk-toggleable__label-arrow:before {content: \"▸\";float: left;margin-right: 0.25em;color: #696969;}#sk-container-id-2 label.sk-toggleable__label-arrow:hover:before {color: black;}#sk-container-id-2 div.sk-estimator:hover label.sk-toggleable__label-arrow:before {color: black;}#sk-container-id-2 div.sk-toggleable__content {max-height: 0;max-width: 0;overflow: hidden;text-align: left;background-color: #f0f8ff;}#sk-container-id-2 div.sk-toggleable__content pre {margin: 0.2em;color: black;border-radius: 0.25em;background-color: #f0f8ff;}#sk-container-id-2 input.sk-toggleable__control:checked~div.sk-toggleable__content {max-height: 200px;max-width: 100%;overflow: auto;}#sk-container-id-2 input.sk-toggleable__control:checked~label.sk-toggleable__label-arrow:before {content: \"▾\";}#sk-container-id-2 div.sk-estimator input.sk-toggleable__control:checked~label.sk-toggleable__label {background-color: #d4ebff;}#sk-container-id-2 div.sk-label input.sk-toggleable__control:checked~label.sk-toggleable__label {background-color: #d4ebff;}#sk-container-id-2 input.sk-hidden--visually {border: 0;clip: rect(1px 1px 1px 1px);clip: rect(1px, 1px, 1px, 1px);height: 1px;margin: -1px;overflow: hidden;padding: 0;position: absolute;width: 1px;}#sk-container-id-2 div.sk-estimator {font-family: monospace;background-color: #f0f8ff;border: 1px dotted black;border-radius: 0.25em;box-sizing: border-box;margin-bottom: 0.5em;}#sk-container-id-2 div.sk-estimator:hover {background-color: #d4ebff;}#sk-container-id-2 div.sk-parallel-item::after {content: \"\";width: 100%;border-bottom: 1px solid gray;flex-grow: 1;}#sk-container-id-2 div.sk-label:hover label.sk-toggleable__label {background-color: #d4ebff;}#sk-container-id-2 div.sk-serial::before {content: \"\";position: absolute;border-left: 1px solid gray;box-sizing: border-box;top: 0;bottom: 0;left: 50%;z-index: 0;}#sk-container-id-2 div.sk-serial {display: flex;flex-direction: column;align-items: center;background-color: white;padding-right: 0.2em;padding-left: 0.2em;position: relative;}#sk-container-id-2 div.sk-item {position: relative;z-index: 1;}#sk-container-id-2 div.sk-parallel {display: flex;align-items: stretch;justify-content: center;background-color: white;position: relative;}#sk-container-id-2 div.sk-item::before, #sk-container-id-2 div.sk-parallel-item::before {content: \"\";position: absolute;border-left: 1px solid gray;box-sizing: border-box;top: 0;bottom: 0;left: 50%;z-index: -1;}#sk-container-id-2 div.sk-parallel-item {display: flex;flex-direction: column;z-index: 1;position: relative;background-color: white;}#sk-container-id-2 div.sk-parallel-item:first-child::after {align-self: flex-end;width: 50%;}#sk-container-id-2 div.sk-parallel-item:last-child::after {align-self: flex-start;width: 50%;}#sk-container-id-2 div.sk-parallel-item:only-child::after {width: 0;}#sk-container-id-2 div.sk-dashed-wrapped {border: 1px dashed gray;margin: 0 0.4em 0.5em 0.4em;box-sizing: border-box;padding-bottom: 0.4em;background-color: white;}#sk-container-id-2 div.sk-label label {font-family: monospace;font-weight: bold;display: inline-block;line-height: 1.2em;}#sk-container-id-2 div.sk-label-container {text-align: center;}#sk-container-id-2 div.sk-container {/* jupyter's `normalize.less` sets `[hidden] { display: none; }` but bootstrap.min.css set `[hidden] { display: none !important; }` so we also need the `!important` here to be able to override the default hidden behavior on the sphinx rendered scikit-learn.org. See: https://github.com/scikit-learn/scikit-learn/issues/21755 */display: inline-block !important;position: relative;}#sk-container-id-2 div.sk-text-repr-fallback {display: none;}</style><div id=\"sk-container-id-2\" class=\"sk-top-container\"><div class=\"sk-text-repr-fallback\"><pre>RandomForestRegressor()</pre><b>In a Jupyter environment, please rerun this cell to show the HTML representation or trust the notebook. <br />On GitHub, the HTML representation is unable to render, please try loading this page with nbviewer.org.</b></div><div class=\"sk-container\" hidden><div class=\"sk-item\"><div class=\"sk-estimator sk-toggleable\"><input class=\"sk-toggleable__control sk-hidden--visually\" id=\"sk-estimator-id-2\" type=\"checkbox\" checked><label for=\"sk-estimator-id-2\" class=\"sk-toggleable__label sk-toggleable__label-arrow\">RandomForestRegressor</label><div class=\"sk-toggleable__content\"><pre>RandomForestRegressor()</pre></div></div></div></div></div>"
      ],
      "text/plain": [
       "RandomForestRegressor()"
      ]
     },
     "execution_count": 55,
     "metadata": {},
     "output_type": "execute_result"
    }
   ],
   "source": [
    "# model = DecisionTreeRegressor()\n",
    "# model = LinearRegression()\n",
    "model = RandomForestRegressor()\n",
    "model.fit(df_tr,df_train_labels)"
   ]
  },
  {
   "cell_type": "markdown",
   "id": "63623a79",
   "metadata": {},
   "source": [
    "### Predicting values"
   ]
  },
  {
   "cell_type": "code",
   "execution_count": 56,
   "id": "dc83fc12",
   "metadata": {},
   "outputs": [],
   "source": [
    "x = df_features.iloc[:5]\n",
    "y= df_train_labels.iloc[:5]"
   ]
  },
  {
   "cell_type": "code",
   "execution_count": 57,
   "id": "e026fdbd",
   "metadata": {},
   "outputs": [],
   "source": [
    "prep_data = my_pipeline.transform(x)"
   ]
  },
  {
   "cell_type": "code",
   "execution_count": 58,
   "id": "e6a96669",
   "metadata": {},
   "outputs": [
    {
     "data": {
      "text/plain": [
       "array([3.01, 2.89, 2.84, 2.2 , 4.06])"
      ]
     },
     "execution_count": 58,
     "metadata": {},
     "output_type": "execute_result"
    }
   ],
   "source": [
    "model.predict(prep_data)"
   ]
  },
  {
   "cell_type": "code",
   "execution_count": 59,
   "id": "96eb1f38",
   "metadata": {},
   "outputs": [
    {
     "data": {
      "text/plain": [
       "[3.0, 3.0, 3.0, 2.0, 4.0]"
      ]
     },
     "execution_count": 59,
     "metadata": {},
     "output_type": "execute_result"
    }
   ],
   "source": [
    "list(y)"
   ]
  },
  {
   "cell_type": "markdown",
   "id": "ac86220a",
   "metadata": {},
   "source": [
    "### Evaluating model"
   ]
  },
  {
   "cell_type": "code",
   "execution_count": 60,
   "id": "3b9c7904",
   "metadata": {},
   "outputs": [
    {
     "data": {
      "text/plain": [
       "0.23114583044695744"
      ]
     },
     "execution_count": 60,
     "metadata": {},
     "output_type": "execute_result"
    }
   ],
   "source": [
    "from sklearn.metrics import mean_squared_error\n",
    "predictions = model.predict(df_tr)\n",
    "mse = mean_squared_error(df_train_labels,predictions)\n",
    "rmse = np.sqrt(mse)\n",
    "rmse"
   ]
  },
  {
   "cell_type": "code",
   "execution_count": 61,
   "id": "e7485ad8",
   "metadata": {},
   "outputs": [
    {
     "data": {
      "text/plain": [
       "array([0.59817788, 0.63111244, 0.62844905, 0.64128655, 0.61411907,\n",
       "       0.62866179, 0.60261816, 0.62308476, 0.60681797, 0.62151099])"
      ]
     },
     "execution_count": 61,
     "metadata": {},
     "output_type": "execute_result"
    }
   ],
   "source": [
    "from sklearn.model_selection import cross_val_score\n",
    "scores = cross_val_score(model, df_tr, df_train_labels, scoring='neg_mean_squared_error', cv=10)\n",
    "rmse = np.sqrt(-scores)\n",
    "rmse"
   ]
  },
  {
   "cell_type": "code",
   "execution_count": 62,
   "id": "0fbbbb1e",
   "metadata": {},
   "outputs": [],
   "source": [
    "def print_scores(scores):\n",
    "    print(\"scores:\",scores)\n",
    "    print('mean',scores.mean())\n",
    "    print('Satndard deviation', scores.std())\n"
   ]
  },
  {
   "cell_type": "code",
   "execution_count": 63,
   "id": "0963450a",
   "metadata": {},
   "outputs": [
    {
     "name": "stdout",
     "output_type": "stream",
     "text": [
      "scores: [0.59817788 0.63111244 0.62844905 0.64128655 0.61411907 0.62866179\n",
      " 0.60261816 0.62308476 0.60681797 0.62151099]\n",
      "mean 0.6195838657376719\n",
      "Satndard deviation 0.013113992739576726\n"
     ]
    }
   ],
   "source": [
    "print_scores(rmse)"
   ]
  },
  {
   "cell_type": "markdown",
   "id": "4dca3bf9",
   "metadata": {},
   "source": [
    "## Saving the model"
   ]
  },
  {
   "cell_type": "code",
   "execution_count": 64,
   "id": "72b1f145",
   "metadata": {},
   "outputs": [
    {
     "data": {
      "text/plain": [
       "['housing.joblib']"
      ]
     },
     "execution_count": 64,
     "metadata": {},
     "output_type": "execute_result"
    }
   ],
   "source": [
    "from joblib import dump,load\n",
    "dump(model, 'housing.joblib')"
   ]
  },
  {
   "cell_type": "markdown",
   "id": "21fb42ac",
   "metadata": {},
   "source": [
    "## testing model on test data"
   ]
  },
  {
   "cell_type": "code",
   "execution_count": 65,
   "id": "da34c06f",
   "metadata": {},
   "outputs": [
    {
     "data": {
      "text/plain": [
       "0.6232145974933305"
      ]
     },
     "execution_count": 65,
     "metadata": {},
     "output_type": "execute_result"
    }
   ],
   "source": [
    "xTst = df_test_set.drop('bedrooms',axis=1)\n",
    "yTst = df_test_set['bedrooms'].copy()\n",
    "xTstPrep = my_pipeline.transform(xTst)\n",
    "finalPredictions = model.predict(xTstPrep)\n",
    "final_mse = mean_squared_error(yTst,finalPredictions)\n",
    "final_Smse = np.sqrt(final_mse)\n",
    "\n",
    "final_Smse"
   ]
  },
  {
   "cell_type": "code",
   "execution_count": 66,
   "id": "ff968ecc",
   "metadata": {},
   "outputs": [
    {
     "data": {
      "text/plain": [
       "array([3.03, 3.02, 2.12, 2.57, 3.88])"
      ]
     },
     "execution_count": 66,
     "metadata": {},
     "output_type": "execute_result"
    }
   ],
   "source": [
    "finalPredictions[:5]"
   ]
  },
  {
   "cell_type": "code",
   "execution_count": 68,
   "id": "6ee0e7c6",
   "metadata": {},
   "outputs": [
    {
     "name": "stdout",
     "output_type": "stream",
     "text": [
      "[2.0, 3.0, 2.0, 4.0, 3.0]\n"
     ]
    }
   ],
   "source": [
    "print(list(yTst.iloc[:5]))"
   ]
  },
  {
   "cell_type": "code",
   "execution_count": null,
   "id": "e0e20561",
   "metadata": {},
   "outputs": [],
   "source": []
  }
 ],
 "metadata": {
  "kernelspec": {
   "display_name": "Python 3 (ipykernel)",
   "language": "python",
   "name": "python3"
  },
  "language_info": {
   "codemirror_mode": {
    "name": "ipython",
    "version": 3
   },
   "file_extension": ".py",
   "mimetype": "text/x-python",
   "name": "python",
   "nbconvert_exporter": "python",
   "pygments_lexer": "ipython3",
   "version": "3.10.6"
  }
 },
 "nbformat": 4,
 "nbformat_minor": 5
}
