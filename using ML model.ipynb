{
 "cells": [
  {
   "cell_type": "code",
   "execution_count": 1,
   "id": "977281fb",
   "metadata": {},
   "outputs": [],
   "source": [
    "from joblib import dump,load\n",
    "import numpy as np\n",
    "model = load('poki.joblib')"
   ]
  },
  {
   "cell_type": "code",
   "execution_count": 2,
   "id": "38d5bfb9",
   "metadata": {},
   "outputs": [
    {
     "data": {
      "text/plain": [
       "array([74.38])"
      ]
     },
     "execution_count": 2,
     "metadata": {},
     "output_type": "execute_result"
    }
   ],
   "source": [
    "features = np.array([[ 0.87526218, -0.2697734 ,  0.21562236, -0.06025182,  0.82372094,\n",
    "        -1.39867035]])\n",
    "model.predict(features)"
   ]
  },
  {
   "cell_type": "code",
   "execution_count": null,
   "id": "ce5c0f82",
   "metadata": {},
   "outputs": [],
   "source": []
  }
 ],
 "metadata": {
  "kernelspec": {
   "display_name": "Python 3 (ipykernel)",
   "language": "python",
   "name": "python3"
  },
  "language_info": {
   "codemirror_mode": {
    "name": "ipython",
    "version": 3
   },
   "file_extension": ".py",
   "mimetype": "text/x-python",
   "name": "python",
   "nbconvert_exporter": "python",
   "pygments_lexer": "ipython3",
   "version": "3.10.6"
  }
 },
 "nbformat": 4,
 "nbformat_minor": 5
}
